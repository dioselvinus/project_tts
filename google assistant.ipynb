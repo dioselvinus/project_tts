{
 "cells": [
  {
   "cell_type": "code",
   "execution_count": 1,
   "metadata": {},
   "outputs": [
    {
     "name": "stdout",
     "output_type": "stream",
     "text": [
      "listen...\n",
      "playing ariana grande\n"
     ]
    }
   ],
   "source": [
    "import speech_recognition as sr\n",
    "import pyttsx3 as tts\n",
    "import wikipedia\n",
    "import pyjokes\n",
    "import pywhatkit\n",
    "import datetime\n",
    "from random import choice\n",
    "\n",
    "def welcome():\n",
    "    text = [\"hi, i am elexis. i am your assistant\",\"hi, there's a lot going on in the countr right now, i hope you're staying safe\",\"hi, i'm new assistant. i hope i can help you\"]\n",
    "    talk(choice(text))\n",
    "    input_voice()\n",
    "    \n",
    "def talk(text):\n",
    "    engine.say(text)\n",
    "    engine.runAndWait()\n",
    "    \n",
    "def input_voice():\n",
    "    try:\n",
    "        with sr.Microphone() as source:\n",
    "            print('listen...')\n",
    "            listener.adjust_for_ambient_noise(source, duration=0.5)\n",
    "            audio = listener.listen(source)\n",
    "            command = listener.recognize_google(audio)\n",
    "            \n",
    "            command = command.lower()\n",
    "            if 'alexis' in command:\n",
    "                command = command.replace('alexis', 'elexis')\n",
    "            if 'elexis' in command:\n",
    "                command = command.replace('elexis ','')\n",
    "                return command\n",
    "    except:\n",
    "        pass\n",
    "    \n",
    "    \n",
    "def run_elexis():\n",
    "    command = input_voice()\n",
    "\n",
    "    if 'elexis' in command or 'hi elexis' in command:\n",
    "        welcome()\n",
    "    elif 'play' in command:\n",
    "        song = command.replace('play','')\n",
    "        talk('playing '+song)\n",
    "        print(\"playing\" + song)\n",
    "        pywhatkit.playonyt(song)\n",
    "    elif 'time' in command:\n",
    "        time = datetime.datetime.now().strftime('%H:%M')\n",
    "        print(time)\n",
    "        talk(\"current time is \" + time)\n",
    "    elif 'what is' in command:\n",
    "        wiki = command.replace('what is', '')\n",
    "        info = wikipedia.summary(wiki,1)\n",
    "        if info:\n",
    "            print(info)\n",
    "            talk(info)\n",
    "    elif 'joke' in command:\n",
    "        joke = pyjokes.get_joke()\n",
    "        print(joke)\n",
    "        talk(joke)\n",
    "    else:\n",
    "        talk(\"i didn't understand it. can you speak again\")\n",
    "        input_voice()\n",
    "        \n",
    "if __name__ == \"__main__\":\n",
    "    listener = sr.Recognizer()\n",
    "    engine = tts.init()\n",
    "    voices = engine.getProperty('voices')\n",
    "    engine.setProperty('voice', voices[1].id)\n",
    "    \n",
    "    run_elexis()"
   ]
  },
  {
   "cell_type": "code",
   "execution_count": null,
   "metadata": {},
   "outputs": [],
   "source": []
  }
 ],
 "metadata": {
  "kernelspec": {
   "display_name": "Python 3",
   "language": "python",
   "name": "python3"
  },
  "language_info": {
   "codemirror_mode": {
    "name": "ipython",
    "version": 3
   },
   "file_extension": ".py",
   "mimetype": "text/x-python",
   "name": "python",
   "nbconvert_exporter": "python",
   "pygments_lexer": "ipython3",
   "version": "3.8.3"
  }
 },
 "nbformat": 4,
 "nbformat_minor": 4
}
